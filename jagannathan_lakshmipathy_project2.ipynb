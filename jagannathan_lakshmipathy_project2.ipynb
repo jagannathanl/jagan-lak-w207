{
 "cells": [
  {
   "cell_type": "markdown",
   "metadata": {
    "id": "iNALzZOKTzOS"
   },
   "source": [
    "# Project 2: Digit Classification Naive Bayes\n",
    "\n",
    "**Solution**"
   ]
  },
  {
   "cell_type": "markdown",
   "metadata": {
    "id": "EBRkdIUUTzOV"
   },
   "source": [
    "# Intro\n",
    "---\n",
    "In this project, you'll continue working on your own image recognition system for classifying digits. Read through the code and the instructions carefully and add your own code where indicated. Each problem can be addressed succinctly with the included packages -- please don't add any more. \n",
    "As always, you're welcome to work on the project in groups and discuss ideas over Slack, but <b> please prepare your own write-up (with your own code). </b>\n",
    "\n",
    "\n",
    "## Grading\n",
    "---\n",
    " - Make sure to answer every part in every question.\n",
    " - There are 6 questions, each equally weighted and an additional bonus question.\n",
    " - The extra credit question will be graded based on your attempts at feature engineering and resulting improved accuracy.\n",
    " - Read carefully what is asked including the notes.\n",
    " - Additional points may be deducted if:\n",
    "   - the code is not clean, well commented,\n",
    "  -  if the functions or answers are too long.\n",
    "\n",
    "## Requirements:\n",
    "---\n",
    "1. Comment your code.\n",
    "1. All graphs should have titles, label for each axis, and if needed a legend. It should be understandable on its own.\n",
    "1. All code must run on colab.research.google.com\n",
    "1. You should not import any additional libraries.\n",
    "1. Try and minimize the use of the global namespace (meaning keep things in functions).\n",
    "\n",
    "## Additional Reading and notes\n",
    "---\n",
    "If you're interested, check out these links related to digit recognition:\n",
    "\n",
    "* Yann Lecun's MNIST benchmarks: http://yann.lecun.com/exdb/mnist/\n",
    "* Stanford Streetview research and data: http://ufldl.stanford.edu/housenumbers/\n",
    "\n",
    "Finally, if you'd like to get started with Tensorflow, you can read through this tutorial: https://www.tensorflow.org/tutorials/keras/basic_classification. It uses a dataset called \"fashion_mnist\", which is identical in structure to the original digit mnist, but uses images of clothing rather than images of digits. The number of training examples and number of labels is the same. In fact, you can simply replace the code that loads \"fashion_mnist\" with \"mnist\" and everything should work fine."
   ]
  },
  {
   "cell_type": "code",
   "execution_count": 1,
   "metadata": {
    "id": "r8u7GmsDTzOX"
   },
   "outputs": [],
   "source": [
    "# This tells matplotlib not to try opening a new window for each plot.\n",
    "%matplotlib inline\n",
    "\n",
    "# Import a bunch of libraries.\n",
    "import time\n",
    "import numpy as np\n",
    "import pandas as pd\n",
    "import matplotlib.pyplot as plt\n",
    "from matplotlib.ticker import MultipleLocator\n",
    "from sklearn.pipeline import Pipeline\n",
    "from sklearn.datasets import fetch_openml\n",
    "from sklearn.neighbors import KNeighborsClassifier\n",
    "from sklearn.metrics import confusion_matrix\n",
    "from sklearn.linear_model import LinearRegression\n",
    "from sklearn.naive_bayes import BernoulliNB\n",
    "from sklearn.naive_bayes import MultinomialNB\n",
    "from sklearn.naive_bayes import GaussianNB\n",
    "from sklearn.model_selection import GridSearchCV\n",
    "from sklearn.metrics import classification_report\n",
    "\n",
    "# Set the randomizer seed so results are the same each time.\n",
    "np.random.seed(0)"
   ]
  },
  {
   "cell_type": "code",
   "execution_count": 2,
   "metadata": {
    "id": "bWOWoq_dTzOY"
   },
   "outputs": [
    {
     "data": {
      "text/plain": [
       "'0.23.2'"
      ]
     },
     "execution_count": 2,
     "metadata": {},
     "output_type": "execute_result"
    }
   ],
   "source": [
    "import sklearn\n",
    "sklearn.__version__"
   ]
  },
  {
   "cell_type": "markdown",
   "metadata": {
    "id": "J1-CAjA9TzOa"
   },
   "source": [
    "Load the data. Notice that the data gets partitioned into training, development, and test sets. Also, a small subset of the training data called mini_train_data and mini_train_labels gets defined, which you should use in all the experiments below, unless otherwise noted."
   ]
  },
  {
   "cell_type": "code",
   "execution_count": 3,
   "metadata": {
    "id": "f9kPmCW0TzOb"
   },
   "outputs": [
    {
     "name": "stdout",
     "output_type": "stream",
     "text": [
      "data shape:  (70000, 784)\n",
      "label shape: (70000,)\n"
     ]
    }
   ],
   "source": [
    "# Load the digit data from https://www.openml.org/d/554 or from default local location '~/scikit_learn_data/...'\n",
    "X, Y = fetch_openml(name='mnist_784', return_X_y=True, cache=False)\n",
    "\n",
    "# Rescale grayscale values to [0,1].\n",
    "X = X / 255.0\n",
    "\n",
    "# Shuffle the input: create a random permutation of the integers between 0 and the number of data points and apply this\n",
    "# permutation to X and Y.\n",
    "# NOTE: Each time you run this cell, you'll re-shuffle the data, resulting in a different ordering.\n",
    "shuffle = np.random.permutation(np.arange(X.shape[0]))\n",
    "X, Y = X[shuffle], Y[shuffle]\n",
    "\n",
    "print('data shape: ', X.shape)\n",
    "print('label shape:', Y.shape)\n",
    "\n",
    "# Set some variables to hold test, dev, and training data.\n",
    "test_data, test_labels = X[61000:], Y[61000:]\n",
    "dev_data, dev_labels = X[60000:61000], Y[60000:61000]\n",
    "train_data, train_labels = X[:60000], Y[:60000]\n",
    "mini_train_data, mini_train_labels = X[:1000], Y[:1000]"
   ]
  },
  {
   "cell_type": "markdown",
   "metadata": {
    "id": "gr40-NstTzOl"
   },
   "source": [
    "### Question 1: Applying a smoothing using numpy.\n",
    "---\n",
    "\n",
    "A common image processing technique is to smooth an image by **blurring**. The idea is that the value of a particular pixel is estimated as the weighted combination of the original value and the values around it. Typically, the blurring is Gaussian, i.e., the weight of a pixel's influence is determined by a Gaussian function over the distance to the relevant pixel.\n",
    "\n",
    "1. Implement a simplified Gaussian blur filter by just using the 8 neighboring pixels like this: the smoothed value of a pixel is a weighted combination of the original value and the 8 neighboring values.\n",
    "1. Choose some weights as a starting point. Produce and evaluate four 1-Nearest Neighbor models by applying your blur filter in these ways:\n",
    "  1. Do not use the filter\n",
    "  1. Filter the training data but not the dev data\n",
    "  1. Filter the dev data but not the training data\n",
    "  1. Filter both training data and dev data\n",
    "1. Show the accuracies of the four models evaluated as described. What do you see? Can you explain why this is?\n",
    "1. Experiment with weights that makes one model's accuracy at least 0.9.\n",
    "\n",
    "Notes:\n",
    "* Train on the (filtered) mini train set.\n",
    "* Evaluate performance on the (filtered) dev set.\n",
    "* A good trick to simplify your code is to use numpy's pad function to add 0s around your original array so you don't have to deal with \"edge cases\".\n",
    "* In addition, you can use numpy to multiply and sum slices of two arrays.\n",
    "* [This notebook](https://colab.research.google.com/drive/1eJXTQLtREXQjQIsLOA9uCrBl6B049-pO) might help shows some example numpy code.\n",
    "* In general, [numpy operations will be much faster than for loops](https://colab.research.google.com/drive/1KJI4JtuIqVdyZHTTe_mAlKYA5XdLFp3_). \n",
    "* There are other Guassian blur filters available, for example in `scipy.ndimage.filters`. You are welcome to experiment with those, but in this question, please implement your own."
   ]
  },
  {
   "cell_type": "markdown",
   "metadata": {},
   "source": [
    "<span style=\"font-family:Verdana; color: green;\">ANSWER: </span>\n",
    "\n",
    "<span style=\"font-family:Verdana; color: green;\">The mathematical formulation of 2-D convolution is given by: $$y_{ij} = \\sum_{m=-\\infty}^{\\infty} \\sum_{n=-\\infty}^{\\infty} h_{m,n} x_{m-1,n-1}$$ where, $x$ represents the input image matrix to be convolved with the kernel matrix $h$ to result in a new matrix $y$, representing the output image. Here, the indices $i$ and $j$ are concerned with the image matrices while those of $m$ and $n$ deal with that of the kernel. If the size of the kernel involved in convolution is 3 × 3, then the indices $m$ and $n$ range from -1 to 1.</span>\n",
    "\n",
    "<span style=\"font-family:Verdana; color: green;\"> In the cell below, we have implemented function convolution(). This function takes a image and a kernel as parameters. This function computes recomputes each pixel in the image as the weighted average by computing the linear combination of the original value and the values around with that of the kernel values as we slide the kernel on the image. To demonstrate the effect of the kernel on the image we have run the convolution on the first 3 images in the dataset and have displayed it below.</span>\n",
    "\n",
    "<span style=\"font-family:Verdana; color: green;\"> Finally, in function Q1() we applied the filters in 2(A), 2(B), 2(C), and 2(D) as described above. </span>"
   ]
  },
  {
   "cell_type": "code",
   "execution_count": 4,
   "metadata": {
    "id": "ebHGUU0eTzOl"
   },
   "outputs": [
    {
     "name": "stdout",
     "output_type": "stream",
     "text": [
      "Accuracy of Model A: 0.884\n",
      "Accuracy of Model B: 0.906\n",
      "Accuracy of Model C: 0.868\n",
      "Accuracy of Model D: 0.901\n"
     ]
    },
    {
     "data": {
      "image/png": "[encoded data removed]",
      "text/plain": [
       "<Figure size 432x288 with 6 Axes>"
      ]
     },
     "metadata": {},
     "output_type": "display_data"
    }
   ],
   "source": [
    "def convolution(img, kernel):\n",
    "    img_h = img.shape[0]\n",
    "    img_w = img.shape[1]\n",
    "    \n",
    "    kernel_h = kernel.shape[0]\n",
    "    kernel_w = kernel.shape[1]\n",
    "    \n",
    "    padded_img = np.pad(img, \n",
    "                        pad_width=((kernel_h // 2, kernel_h // 2),(kernel_w // 2, kernel_w // 2)), \n",
    "                        mode='constant', constant_values=0).astype(np.float32)\n",
    "    \n",
    "    ph = kernel_h//2\n",
    "    pw = kernel_w//2\n",
    "    img_new = np.zeros((img.shape[0], img.shape[1]), dtype=np.float32)\n",
    "    for i in range(ph, img_h+ph):\n",
    "        for j in range(pw, img_h+pw):\n",
    "            img_new[i-ph][j-pw] = (kernel.flatten() * padded_img[i-ph:i+ph+1, j-pw:j+pw+1].flatten()).sum()\n",
    "\n",
    "    return img_new\n",
    "\n",
    "\n",
    "cnt = 0\n",
    "#kernel = np.array([[1.0/9.0, 1.0/9.0, 1.0/9.0], [1.0/9.0, 1.0/9.0, 1.0/9.0], [1.0/9.0, 1.0/9.0, 1.0/9.0]])\n",
    "kernel = np.array([[0.07511361, 0.1238414 , 0.07511361], [0.1238414 , 0.20417996, 0.1238414 ], [0.07511361, 0.1238414 , 0.07511361]])\n",
    "fig, ax = plt.subplots(2, 3, sharey=True)\n",
    "\n",
    "\n",
    "img = mini_train_data[cnt].reshape(28, 28)\n",
    "ax[0,cnt].imshow(img, cmap='gray')\n",
    "img = convolution(mini_train_data[cnt].reshape(28, 28), kernel)\n",
    "ax[1,cnt].imshow(img, cmap='gray')\n",
    "cnt += 1\n",
    "\n",
    "img = mini_train_data[cnt].reshape(28, 28)\n",
    "ax[0,cnt].imshow(img, cmap='gray')\n",
    "img = convolution(mini_train_data[cnt].reshape(28, 28), kernel)\n",
    "ax[1,cnt].imshow(img, cmap='gray')\n",
    "cnt += 1\n",
    "\n",
    "\n",
    "img = mini_train_data[cnt].reshape(28, 28)\n",
    "ax[0,cnt].imshow(img, cmap='gray')\n",
    "img = convolution(mini_train_data[cnt].reshape(28, 28), kernel)\n",
    "ax[1,cnt].imshow(img, cmap='gray')\n",
    "cnt += 1\n",
    "plt.setp(plt.gcf().get_axes(), xticks=[], yticks=[]);\n",
    "\n",
    "\n",
    "def Q1():\n",
    "    ### STUDENT START ###\n",
    "    model = KNeighborsClassifier(n_neighbors=1)\n",
    "    model.fit(mini_train_data, mini_train_labels)\n",
    "    pred = model.predict(dev_data)\n",
    "    acc = sum(pred == dev_labels)/len(dev_labels)\n",
    "    print(\"Accuracy of Model A: \" + str(acc))\n",
    "    \n",
    "    mini_train_data_filtered  = [convolution(td.reshape(28, 28), kernel).flatten() for td in mini_train_data]\n",
    "    model.fit(mini_train_data_filtered, mini_train_labels)\n",
    "    pred = model.predict(dev_data)\n",
    "    acc = sum(pred == dev_labels)/len(dev_labels)\n",
    "    print(\"Accuracy of Model B: \" + str(acc))\n",
    " \n",
    "    model.fit(mini_train_data, mini_train_labels)\n",
    "    dev_data_filtered  = [convolution(dd.reshape(28, 28), kernel).flatten() for dd in dev_data]\n",
    "    pred = model.predict(dev_data_filtered)\n",
    "    acc = sum(pred == dev_labels)/len(dev_labels)\n",
    "    print(\"Accuracy of Model C: \" + str(acc))\n",
    "    \n",
    "    mini_train_data_filtered  = [convolution(td.reshape(28, 28), kernel).flatten() for td in mini_train_data]\n",
    "    model.fit(mini_train_data_filtered, mini_train_labels)\n",
    "    dev_data_filtered  = [convolution(dd.reshape(28, 28), kernel).flatten() for dd in dev_data]\n",
    "    pred = model.predict(dev_data_filtered)\n",
    "    acc = sum(pred == dev_labels)/len(dev_labels)\n",
    "    print(\"Accuracy of Model D: \" + str(acc))\n",
    "    ### STUDENT END ###\n",
    "\n",
    "Q1()"
   ]
  },
  {
   "cell_type": "markdown",
   "metadata": {},
   "source": [
    "<span style=\"font-family:Verdana; color: green;\"> As we see in the output above, we have the displayed the accuracies of four models and as expected in question 1.4 the accuracies of the model B and D are 0.906 and 0.901 respectively are above 0.9. </span>"
   ]
  },
  {
   "cell_type": "markdown",
   "metadata": {
    "id": "aN3HZPGuTzOn"
   },
   "source": [
    "### Question 2: Modeling your data and experimenting with different Naive Bayes models. \n",
    "---\n",
    "\n",
    "1. Produce two Naive Bayes models and evaluate their performances.  Recall that Naive Bayes estimates P(feature|label), where each label is a categorical, not a real number.\n",
    "  1. For the first model, map pixel values to either 0 or 1, representing white or black - you should pre-process the data or use `BernoulliNB`'s `binarize` parameter to set the white/black separation threshold to 0.1.  Use `BernoulliNB` to produce the model.\n",
    "  1. For the second model, map pixel values to either 0, 1, or 2, representing white, gray, or black - you should pre-process the data, seting the white/gray/black separation thresholds to 0.1 and 0.9.  Here you'll likely need to implement a `trianarize` helper function. Since we are going beyond the binary representation of our features, you should use `MultinomialNB` to produce the model.\n",
    "1. Show the Bernoulli model accuracy and the Multinomial model accuracy.\n",
    "1. Does the multinomial version improve the results? Why or why not?\n",
    "\n",
    "Notes:\n",
    "* Train on the mini train set.\n",
    "* Evaluate performance on the dev set.\n",
    "\n"
   ]
  },
  {
   "cell_type": "markdown",
   "metadata": {},
   "source": [
    "<span style=\"font-family:Verdana; color: green;\">ANSWER: </span>\n",
    "\n",
    "<span style=\"font-family:Verdana; color: green;\"> In the cell below, we have two implementations (i) binarize, and (ii) ternarize. Function binarize takes in a threshold and takes a set of images. And for each pixel in those images binarize() replaces it with either 1 or 0 depending on that pixel value is above or below the threshold value. Similarly, the ternarize takes in two thresholds low and high. Function ternaize replaces each pixel with either 0, 1, or 2 depending on if the pixel value is less than or equal to low, 1 if it is above low and less than or equal to high else 2.</span>\n",
    "\n",
    "<span style=\"font-family:Verdana; color: green;\"> In the first part of Q2(), we binarize() the train_data and created a BernoulliNB model with the binarized data and measured the accuracy with the test data. Similarly, we ternarize the train data and created a MultinomialNB model with the ternairized data and measured the accuracy with the test data. </span>\n",
    "\n",
    "<span style=\"font-family:Verdana; color: green;\"> **To our surprize, BernoulliNB performed slightly better than MultinomialNB.** While it is difficult to sum up their performances  of these two models in general, MultinomialNB is in a sense a slightly more complex model than BernoulliNB. For the mnist data in hand, BernoulliNB deals with 1 or 0 values per pixel and uses lesser information to train the model. For example, BernoulliNB uses the mean at each pixel in the image (28x28). For e.g. how many times a pixel is 0 or 1 for a particular class as opposed to the multinomialNB how many times a pixel takes a value 0, 1, or 2 for a given class. Hence due to a principle of parsimony a simple model is less prone to overfitting than a complex model.</span>"
   ]
  },
  {
   "cell_type": "code",
   "execution_count": 5,
   "metadata": {
    "id": "_1edM3ehTzOn"
   },
   "outputs": [
    {
     "name": "stdout",
     "output_type": "stream",
     "text": [
      "Bernoulli model accuracy:  0.829\n",
      "Multinomial model accuracy:  0.818\n"
     ]
    }
   ],
   "source": [
    "# Solution with binarization by explicit binarize function\n",
    "# binarize_example():\n",
    "#   Turn all pixels below 0.5 (or threshold) -> 0, greater -> 1\n",
    "def binarize_example(example, threshold = 0.1):\n",
    "    binarized = [ 1 if value > threshold else 0 for value in example ]\n",
    "    return binarized\n",
    "    \n",
    "# binarize_examples():\n",
    "#   Apply binarization to a set of example\n",
    "def binarize_examples(examples, threshold = 0.1):\n",
    "    binarized = [ binarize_example(example, threshold) for example in examples ]\n",
    "    return binarized\n",
    "\n",
    "# ternarize_example():\n",
    "#   Turn all pixels below 1/3 (or threshold) -> 0, 1/3 through 2/3 -> 1, greater -> 2\n",
    "def ternarize_example(example, threshold_low = 0.1, threshold_high = 0.9):\n",
    "    ternarized = [ \n",
    "        0 if value < threshold_low else 1 if value < threshold_high else 2\n",
    "        for value in example\n",
    "    ]\n",
    "    return ternarized\n",
    "\n",
    "# ternarize_examples():\n",
    "#   Apply ternarization to a set of example\n",
    "def ternarize_examples(examples, threshold_low = 0.1, threshold_high = 0.9):\n",
    "    ternarized = [ \n",
    "        ternarize_example(example, threshold_low, threshold_high) \n",
    "        for example in examples \n",
    "    ]\n",
    "    return ternarized\n",
    "\n",
    "def Q2():\n",
    "    ### STUDENT START ###\n",
    "    binarized_train_data = binarize_examples(train_data)\n",
    "    \n",
    "    binary_naive_bayes = BernoulliNB()\n",
    "    binary_naive_bayes.fit(binarized_train_data, train_labels)\n",
    "\n",
    "    binarized_dev_data = binarize_examples(dev_data)\n",
    "    binary_naive_bayes_predicted = binary_naive_bayes.predict(binarized_dev_data)\n",
    "    print('Bernoulli model accuracy: ', sum(binary_naive_bayes_predicted == dev_labels)/len(dev_data))\n",
    "    #print(binary_naive_bayes_predicted[:5])\n",
    "    #print(dev_labels[:5])\n",
    "\n",
    "    ternarized_train_data = ternarize_examples(train_data)\n",
    "    \n",
    "    ternary_naive_bayes = MultinomialNB()\n",
    "    ternary_naive_bayes.fit(ternarized_train_data, train_labels)\n",
    "\n",
    "    ternarized_dev_data = ternarize_examples(dev_data)\n",
    "    ternary_naive_bayes_predicted = ternary_naive_bayes.predict(ternarized_dev_data)\n",
    "    print('Multinomial model accuracy: ', sum(ternary_naive_bayes_predicted == dev_labels)/len(dev_data))\n",
    "    #print(ternary_naive_bayes_predicted[:5])\n",
    "    #print(dev_labels[:5])\n",
    "    ### STUDENT END ###\n",
    "\n",
    "Q2()"
   ]
  },
  {
   "cell_type": "markdown",
   "metadata": {
    "id": "ymzuQZwsTzOp"
   },
   "source": [
    "### Question 3: Applying the grid search technique.\n",
    "1. Search across several values of the LaPlace smoothing parameter (alpha) to find its effect on a Bernoulli Naive Bayes model's performance.  Show the accuracy at each alpha value.\n",
    "1. What is the best value for alpha? What is the accuracy when alpha is near 0? Is this what you'd expect?\n",
    "\n",
    "Notes:\n",
    "* Set binarization threshold to 0.\n",
    "* Train on the mini train set.\n",
    "* Evaluate performance by 5-fold cross-validation. \n",
    "* Use `GridSearchCV(..., ..., cv=..., scoring='accuracy', iid=False)` to vary alpha and evaluate performance by cross-validation.\n",
    "* Cross-validation is based on partitions of the training data, so results will be a bit different than if you had used the dev set to evaluate performance.\n",
    "\n"
   ]
  },
  {
   "cell_type": "markdown",
   "metadata": {},
   "source": [
    "<span style=\"font-family:Verdana; color: green;\">ANSWER: </span>\n",
    "\n",
    "<span style=\"font-family:Verdana; color: green;\"> In the cell below, we have implemented Q3(). In Q3(), We have leveraged the binarize() function implemented in our previous question by passing a threshold value of 0.0. We binarized the mini train. We have used the GridSearchCV defined in model_selection module of sklearn to do the grid search. We did the grid search with different alphas and evaluated the performance by setting cross-validation to 5-fold.</span>"
   ]
  },
  {
   "cell_type": "code",
   "execution_count": 6,
   "metadata": {},
   "outputs": [
    {
     "name": "stdout",
     "output_type": "stream",
     "text": [
      "{'alpha': 0.001}\n",
      "0.825\n",
      "make_scorer(accuracy_score)\n",
      "2\n"
     ]
    },
    {
     "name": "stderr",
     "output_type": "stream",
     "text": [
      "/Users/jagannathanlakshmipathy/opt/anaconda3/lib/python3.8/site-packages/sklearn/model_selection/_search.py:847: FutureWarning: The parameter 'iid' is deprecated in 0.22 and will be removed in 0.24.\n",
      "  warnings.warn(\n"
     ]
    }
   ],
   "source": [
    "def Q3(alphas):\n",
    "    ### STUDENT START ###\n",
    "    binarized_train_data = binarize_examples(mini_train_data, threshold = 0.0)\n",
    "    clf = GridSearchCV(BernoulliNB(), param_grid=alphas, scoring='accuracy', cv=5, iid=False)\n",
    "    clf.fit(binarized_train_data, mini_train_labels) # running the grid search\n",
    "    print(clf.best_params_)\n",
    "    print(clf.best_score_)\n",
    "    print(clf.scorer_)\n",
    "    print(clf.best_index_)\n",
    "    ### STUDENT END ###\n",
    "\n",
    "alphas = {'alpha': [1.0e-10, 0.0001, 0.001, 0.01, 0.1, 0.5, 1.0, 2.0, 10.0]}\n",
    "Q3(alphas)"
   ]
  },
  {
   "cell_type": "code",
   "execution_count": 7,
   "metadata": {},
   "outputs": [
    {
     "name": "stderr",
     "output_type": "stream",
     "text": [
      "/Users/jagannathanlakshmipathy/opt/anaconda3/lib/python3.8/site-packages/sklearn/naive_bayes.py:511: UserWarning: alpha too small will result in numeric errors, setting alpha = 1.0e-10\n",
      "  warnings.warn('alpha too small will result in numeric errors, '\n"
     ]
    },
    {
     "data": {
      "text/plain": [
       "0.816"
      ]
     },
     "execution_count": 7,
     "metadata": {},
     "output_type": "execute_result"
    }
   ],
   "source": [
    "binarized_train_data = binarize_examples(mini_train_data, threshold = 0.0)\n",
    "bnb = BernoulliNB(alpha=0.0)\n",
    "bnb.fit(binarized_train_data, mini_train_labels)\n",
    "bnb.score(dev_data, dev_labels)"
   ]
  },
  {
   "cell_type": "markdown",
   "metadata": {
    "id": "6g4fnGFPTzOq"
   },
   "source": [
    "<span style=\"font-family:Verdana; color: green;\">Answer for part 2:</span>\n",
    "\n",
    "<span style=\"font-family:Verdana; color: green;\">As noted above the best performing alpha was 0.001 and the accuracy at that alpha came out to be at 0.825 which is slightly better than when the alpha was set 0.0.<span>\n",
    "\n",
    "<span style=\"font-family:Verdana; color: green;\">Yes, this was our expectation as well. In the absence of alpha (i.e. when the alpha is set 0.0) or if the value is too small (e.g. 1.0e-10) due to numeric errors the model may tend be in accurate.<span>"
   ]
  },
  {
   "cell_type": "markdown",
   "metadata": {
    "id": "aQ6MaDU6TzOr"
   },
   "source": [
    "### Question 4: Experimenting with Gaussian Naive Bayes\n",
    "---\n",
    "1. Produce a model using Guassian Naive Bayes, which is intended for real-valued features, and evaluate performance. You will notice that it does not work so well. \n",
    "1. Diagnose and explain the problem.\n",
    "1. Apply a simple fix so that the model accuracy is around the same as for a Bernoulli Naive Bayes model. \n",
    "1. Show the model accuracy before your fix and the model accuracy after your fix.  \n",
    "1. Explain your solution.\n",
    "\n",
    "Notes:\n",
    "* Train on the mini train set.\n",
    "* Evaluate performance on the dev set.\n",
    "* Take a look at var_smoothing argument for GaussianNB.\n",
    "* Feel free to  examine theta and sigma to better understand what's happening. In general though, **it is not a good idea to mess with internal variables of the model**. These are stored in the model's `theta_` and `sigma_` attributes."
   ]
  },
  {
   "cell_type": "markdown",
   "metadata": {},
   "source": [
    "<span style=\"font-family:Verdana; color: green;\">ANSWER:</span>\n",
    "\n",
    "<span style=\"font-family:Verdana; color: green;\">In Q4() below, We first trained the GaussianNB model with the mini_train set. With default hyperparameters, the model performed with the accuracy of 0.593. Then we did grid search with different var smoothing values (e.g logspace(0, -9)) the model seemed to have performed better with accuracy of 0.799.<span>\n",
    "    \n",
    "<span style=\"font-family:Verdana; color: green;\">Gaussian can construed as a filter that weights signal at mean heavily and the weights fall off exponentially as it moves away from mean. In the context of Naive Bayes, assuming a Gaussian distribution is essentially assigns more weights to the samples closer to the distribution mean. This fall off of the gaussian can be adjusted using the var_smoothing parameter. The variable, var_smoothing, artificially adds a user-defined value to the distribution's variance. We have experimented the var_smoothing with values from logspace between (0 and -9). Apparently, the grid search found that the var_smoothing at $log_e(0.035112) = -1.45$ was performing the best.<span>"
   ]
  },
  {
   "cell_type": "code",
   "execution_count": 8,
   "metadata": {
    "id": "XqW86YbKTzOr"
   },
   "outputs": [
    {
     "name": "stderr",
     "output_type": "stream",
     "text": [
      "[Parallel(n_jobs=1)]: Using backend SequentialBackend with 1 concurrent workers.\n"
     ]
    },
    {
     "name": "stdout",
     "output_type": "stream",
     "text": [
      "Score before diagnosis:  0.593\n",
      "Fitting 5 folds for each of 100 candidates, totalling 500 fits\n",
      "{'var_smoothing': 0.03511191734215131}\n",
      "0.799\n",
      "make_scorer(accuracy_score)\n",
      "16\n"
     ]
    },
    {
     "name": "stderr",
     "output_type": "stream",
     "text": [
      "[Parallel(n_jobs=1)]: Done 500 out of 500 | elapsed:    3.3s finished\n"
     ]
    }
   ],
   "source": [
    "def Q4():\n",
    "    ### STUDENT END ###\n",
    "    gnb = GaussianNB()\n",
    "    gnb.fit(mini_train_data, mini_train_labels)\n",
    "    print(\"Score before diagnosis: \",gnb.score(dev_data, dev_labels))\n",
    "    \n",
    "    params_NB = {'var_smoothing': np.logspace(0,-9, num=100)}\n",
    "    gs_NB = GridSearchCV(estimator=GaussianNB(), \n",
    "                         param_grid=params_NB,\n",
    "                         cv=5,   # use any cross validation technique \n",
    "                         verbose=1,\n",
    "                         scoring='accuracy') \n",
    "    gs_NB.fit(mini_train_data, mini_train_labels)\n",
    "    print(gs_NB.best_params_)\n",
    "    print(gs_NB.best_score_)\n",
    "    print(gs_NB.scorer_)\n",
    "    print(gs_NB.best_index_)\n",
    "    ### STUDENT END ###\n",
    "\n",
    "Q4()"
   ]
  },
  {
   "cell_type": "markdown",
   "metadata": {
    "id": "AXx4SGNeTzOs"
   },
   "source": [
    "### Question 5: Naive Bayes as a generative model\n",
    "---\n",
    "Because Naive Bayes produces a generative model, you can use it to generate digit images.\n",
    "\n",
    "1. Produce a Bernoulli Naive Bayes model and then use it to generate a 10x10 grid with 10 example images of each digit. Each pixel output will be either 0 or 1: randomly generating a number and then comparing it to the estimated probability of the pixel being either 0 or 1.  Show the grid.\n",
    "1. How do the generated digit images compare to the training digit images?\n",
    "\n",
    "Notes:\n",
    "* You can use np.random.rand() to generate random numbers from a uniform distribution.\n",
    "* The estimated probability of each pixel being 0 or 1 is stored in the model's `feature_log_prob_` attribute. You can use `np.exp()` to convert a log probability back to a probability.\n",
    "\n"
   ]
  },
  {
   "cell_type": "markdown",
   "metadata": {
    "id": "WDCNbv7ETzOt",
    "scrolled": false
   },
   "source": [
    "<span style=\"font-family:Verdana; color: green;\">ANSWER:</span>\n",
    "\n",
    "<span style=\"font-family:Verdana; color: green;\">In cell below, we have implemented a function NaiveBayes() that iterates through the provided train data to compute the mean for each pixel for each class(e.g. labels {0, 1, ..9}). We then again iterate through these generated means for each label and generate 10 random images (using np.random.binomial as binomial with n=1 is a Bernoulli distribution) for each label and have displayed those images. In Q5(), we invoked the NaiveBayes with a binarized train data. The generated images look bit grainy than the original mini train data. <span>\n",
    "    \n",
    "<span style=\"font-family:Verdana; color: green;\">When we approximate the pixel to be either 0 or 1 in our binarize function we loose information. And BernoulliNB then uses the mean at each pixel in the image (28x28). For e.g. how many times a pixel is 0 or 1 for a particular class. The above information loss attributed to our binarize leads to this grainy images.<span>"
   ]
  },
  {
   "cell_type": "code",
   "execution_count": 9,
   "metadata": {},
   "outputs": [
    {
     "data": {
      "image/png": "[encoded data removed]",
      "text/plain": [
       "<Figure size 432x288 with 100 Axes>"
      ]
     },
     "metadata": {},
     "output_type": "display_data"
    }
   ],
   "source": [
    "fig, ax = plt.subplots(10, 10)\n",
    "\n",
    "def NaiveBayes(X_train, y_train, X_test):\n",
    "    stats = dict()\n",
    "    label_train = set(y_train)\n",
    "    \n",
    "    for c in label_train:\n",
    "        current_X = X_train[y_train==c]\n",
    "        stats[c] = {\n",
    "            'mean':current_X.mean(axis=0), # Mean for each digit.\n",
    "        }\n",
    "\n",
    "    \n",
    "    V = dict()\n",
    "    # Calculating the probabilities.\n",
    "    for c, g in stats.items():\n",
    "        mean = g['mean']\n",
    "        V[c] = []\n",
    "        for i in range(10):\n",
    "            V[c].append(np.random.binomial(1, mean))\n",
    "    \n",
    "    \n",
    "    for c,g in stats.items():\n",
    "        for i in range(10):\n",
    "            ax[int(c), i].imshow(V[c][i].reshape(28, 28), cmap='gray')\n",
    "            continue\n",
    "    return\n",
    "\n",
    "def Q5(num_examples):\n",
    "    ### STUDENT START ###\n",
    "    binarized_train_data = binarize_examples(mini_train_data)\n",
    "    NaiveBayes(np.array(binarized_train_data), mini_train_labels, dev_data)\n",
    "    plt.setp(plt.gcf().get_axes(), xticks=[], yticks=[]);\n",
    "    ### STUDENT END ###\n",
    "\n",
    "Q5(10)"
   ]
  },
  {
   "cell_type": "code",
   "execution_count": 10,
   "metadata": {},
   "outputs": [
    {
     "data": {
      "text/plain": [
       "list"
      ]
     },
     "execution_count": 10,
     "metadata": {},
     "output_type": "execute_result"
    },
    {
     "data": {
      "image/png": "[encoded data removed]",
      "text/plain": [
       "<Figure size 432x288 with 1 Axes>"
      ]
     },
     "metadata": {},
     "output_type": "display_data"
    }
   ],
   "source": [
    "current_X = np.array(binarized_train_data)[mini_train_labels =='0']\n",
    "current_X.mean(axis=0).shape\n",
    "v = np.random.binomial(1, current_X.mean(axis=0))\n",
    "plt.imshow(v.reshape(28, 28), cmap='gray')\n",
    "plt.setp(plt.gcf().get_axes(), xticks=[], yticks=[]);\n",
    "type(binarized_train_data)"
   ]
  },
  {
   "cell_type": "markdown",
   "metadata": {
    "id": "2ENXdzngTzOu"
   },
   "source": [
    "<span style=\"font-family:Verdana; color: green;\">In the cell above we have displayed one such generated for clarity.<span>"
   ]
  },
  {
   "cell_type": "markdown",
   "metadata": {
    "id": "CRkUEi50TzOu"
   },
   "source": [
    "### Question 6: Model Calibraiton\n",
    "---\n",
    "Recall that:\n",
    " * a **strongly calibrated** classifier is rougly 90% accurate when it says it is 90% accurate. The model's estimated posterior probability of the predicted class is indeed 0.9. \n",
    " * A **weakly calibrated** classifier is more accurate when it \"says\" it is more accurate. The actual accuracy is higher when the model's estimated posterior probability is higher.\n",
    " * A **poorly calibrated** classifier has no positive correlation between the model's estimate posterior probability and the actual accuracy.\n",
    "\n",
    "1. Produce a Bernoulli Naive Bayes model.  \n",
    "1. Evaluate performance: \n",
    "  1. Partition the dev set into several buckets based on the estimated posterior probabilities of the predicted classes (predict_proba)\n",
    "    - Think of it as a bin in a histogram, where each bin groups a range of estimated posterior probabilities of the predicted classes (predict_proba).\n",
    "    - Then estimate the actual accuracy the classifier achieved for each bucket. \n",
    "    - So, for each prediction:\n",
    "       - Find the bucket whose range includes the estimated posterior probability, \n",
    "       - and update \"correct\" and \"total\" counters accordingly. \n",
    "       - Show the accuracy for each bucket.\n",
    "1. How would you characterize the calibration for this Bernoulli Naive Bayes model according to the definitions above?\n",
    "\n",
    "Notes:\n",
    "* Set LaPlace smoothing (alpha) to the optimal value (from part 8).\n",
    "* Set binarization threshold to 0.\n",
    "* Train on the mini train set.\n",
    "* Evaluate perfromance on the dev set.\n",
    "\n"
   ]
  },
  {
   "cell_type": "markdown",
   "metadata": {},
   "source": [
    "<span style=\"font-family:Verdana; color: green;\">ANSWER:</span>\n",
    "\n",
    "<span style=\"font-family:Verdana; color: green;\">We discretize our model predictions into $𝑀$ interval bins, and calculate the average fraction of positives and predicted probability for each bin. By doing this samples that have similar predicted score will fall into the same bin.<span>\n",
    "    \n",
    "<span style=\"font-family:Verdana; color: green;\">Let the bins are represented by a sequence ${I_1, I_2, ...., I_n}$ and $𝐵_m$ be the set of samples whose predicted probability falls into interval  $𝐼_𝑚=(\\frac{𝑚−1}{𝑀},\\frac{𝑚}{𝑀}]$ . The Acutal Accuracy for $𝐵_𝑚$  can be computed by the following equation: $$ AA(𝐵_𝑚) = \\frac{\\sum \\limits_{𝑖 \\in 𝐵_m}\\hat{y_i}}{\\sum \\limits_{𝑖 \\in 𝐵_m}y_i} $$ Where $y_i$ is the true class label and $\\hat{y_i}$ is the predicted class label for sample $i$ (assuming in the binary classification setting 1 denotes a positive class and 0 otherwise). Similarly, the predicted probability within bin $B_m$ is defined by the following equation : $$ prob(𝐵_𝑚) = \\frac{1}{|𝐵_𝑚|}\\sum \\limits_{𝑖 \\in 𝐵_m}\\hat{p_𝑖}$$ Where $\\hat{p_i}$ is the predicted probability for sample $i$. The Model Accuracy for $𝐵_𝑚$  can be computed by the following equation: $$ MA(𝐵_𝑚) = \\frac{prob(𝐵_𝑚)}{\\sum \\limits_{𝑖 \\in 𝐵_m}y_i} $$ <span>\n",
    "\n",
    "<span style=\"font-family:Verdana; color: green;\"> The following function Q6() takes in the following arguments buckets, binwise predicted labels, binwise total, binwise probability sum, binwise true labels as arguments. The driver code computes the binwise paremeters and passes it to the Q6 function. And the plot shows 10 curves one each for each label {0, 1, 2..}.<span>"
   ]
  },
  {
   "cell_type": "code",
   "execution_count": 66,
   "metadata": {},
   "outputs": [
    {
     "data": {
      "text/plain": [
       "Text(0.5, 1.0, 'Accuracy plot')"
      ]
     },
     "execution_count": 66,
     "metadata": {},
     "output_type": "execute_result"
    },
    {
     "data": {
      "image/png": "[encoded data removed]",
      "text/plain": [
       "<Figure size 720x360 with 1 Axes>"
      ]
     },
     "metadata": {
      "needs_background": "light"
     },
     "output_type": "display_data"
    }
   ],
   "source": [
    "def Q6(buckets, correct, total, sums, trues, plt):\n",
    "    ### STUDENT END ##\n",
    "    x = []\n",
    "    y = []\n",
    "    for c, t, s, tot in zip(correct, trues, sums, total):\n",
    "        if tot != 0 and t != 0:\n",
    "            x.append(c/t)\n",
    "            y.append(s/tot)\n",
    "    plt.plot(x, y)\n",
    "    ### STUDENT END ##\n",
    "    \n",
    "buckets = [0.5, 0.9, 0.999, 0.99999, 0.9999999, 0.999999999, 0.99999999999, 0.9999999999999, 1.0]\n",
    "correct = [0 for i in buckets]\n",
    "total = [0 for i in buckets]\n",
    "\n",
    "binarized_train_data = binarize_examples(mini_train_data, threshold = 0.0)\n",
    "bnb = BernoulliNB(alpha=0.001)\n",
    "bnb.fit(binarized_train_data, mini_train_labels)\n",
    "binarized_test_data = binarize_examples(test_data, threshold = 0.0)\n",
    "\n",
    "probs = bnb.predict_proba(dev_data)\n",
    "preds = bnb.predict(dev_data)\n",
    "\n",
    "fig, ax = plt.subplots(1, 1, figsize=(10,5))\n",
    "labels = ['0', '1', '2', '3', '4', '5', '6', '7', '8', '9']\n",
    "for label in labels:\n",
    "    y_probs = probs[:,int(label)]\n",
    "    y_trues = (dev_labels == label).astype(np.int)\n",
    "    y_corrects = ((dev_labels == preds) & (dev_labels == label)).astype(np.int)\n",
    "    binids = np.digitize(y_probs, buckets)\n",
    "    \n",
    "    #print('___________' + label + '____________')\n",
    "    bin_sum = np.bincount(binids, weights=y_probs, minlength=len(buckets))\n",
    "    bin_true = np.bincount(binids, weights=y_trues, minlength=len(buckets))\n",
    "    bin_correct = np.bincount(binids, weights=y_corrects, minlength=len(buckets))\n",
    "    bin_total = np.bincount(binids, minlength=len(buckets))\n",
    "    Q6(buckets, bin_correct, bin_total, bin_sum, bin_true, ax)\n",
    "ax.legend(labels)\n",
    "plt.xlabel(\"Actual Accuracy\")\n",
    "plt.ylabel(\"Model Accuracy\")\n",
    "plt.title('Accuracy plot',fontweight =\"bold\", fontsize=20)"
   ]
  },
  {
   "cell_type": "markdown",
   "metadata": {},
   "source": [
    "<span style=\"font-family:Verdana; color: green;\"> From the accuracy plot above, we can note that curves for labels 0, 3, 7, 4, and 6 are strongly calibrated as the model accuracy is almost equal to acutal accuracy. However for the curves 1, 2, 5, 8, and 9 are weakly calibrated as the acutal accuracy is higher than what the model accuracy. None of the above curves show any characteristic of poor calibration.<span>"
   ]
  },
  {
   "cell_type": "markdown",
   "metadata": {
    "id": "tIeZGen1TzOv"
   },
   "source": [
    "### Question 7 EXTRA CREDIT: Feature generation\n",
    "---\n",
    "1. Design new features to see if you can produce a Bernoulli Naive Bayes model with better performance.\n",
    "1. Show the accuracy of a model based on the original features and the accuracy of the model based on the new features.\n",
    "\n",
    "**Note that improving results is actually hard.**\n",
    "\n",
    "Here are a few ideas to get you started:\n",
    "- Try summing or averaging the pixel values in each row.\n",
    "- Try summing or averaging the pixel values in each column.\n",
    "- Try summing or averaging the pixel values in each square block. (pick various block sizes)\n",
    "- Try implementing [*maxpool*](https://computersciencewiki.org/index.php/Max-pooling_/_Pooling) features, taking a rolling maximum over sub-regions of a the image. \n",
    "- In any case, you can either transform the original data or add new \"features\" to it.\n",
    "\n",
    "Notes:\n",
    "* Train on the mini train set (enhanced to comprise the new features).\n",
    "* Evaulate performance on the dev set.\n",
    "* Ensure that your code is well commented."
   ]
  },
  {
   "cell_type": "markdown",
   "metadata": {},
   "source": [
    "<span style=\"font-family:Verdana; color: green;\">ANSWER:</span>\n",
    "\n",
    "<span style=\"font-family:Verdana; color: green;\">In cell below, we have implemented a function pool2d() that will generate rolling maximum or rolling average values of the sub-region depending on the mode argument (max or avg). Also, pool2d also accepts a tuple pool_size as an argument. In Q7(), we iterated with different pool sizes and tried both max and avg modes and have presented the results. To demonstrate the impact of pool2d on the digit image, we picked a random image and passed it to pool2d and rendered the image for review.<span>\n",
    "    \n",
    "<span style=\"font-family:Verdana; color: green;\">In the following experiment, we have modeled a BernoulliNB using the mini train set after applying pool2d on the images.<span>"
   ]
  },
  {
   "cell_type": "code",
   "execution_count": 70,
   "metadata": {
    "id": "6GtYu5ezTzOv"
   },
   "outputs": [
    {
     "name": "stdout",
     "output_type": "stream",
     "text": [
      "Bernoulli model accuracy:  0.814\n",
      "Bernoulli model accuracy:  0.795\n",
      "Bernoulli model accuracy:  0.759\n",
      "Bernoulli model accuracy:  0.71\n"
     ]
    },
    {
     "data": {
      "image/png": "[encoded data removed]",
      "text/plain": [
       "<Figure size 432x288 with 1 Axes>"
      ]
     },
     "metadata": {},
     "output_type": "display_data"
    }
   ],
   "source": [
    "def pool2d(X, pool_size, mode='max'):\n",
    "    p_h, p_w = pool_size\n",
    "    Y = np.zeros((X.shape[0] - p_h + 1, X.shape[1] - p_w + 1))\n",
    "    for i in range(Y.shape[0]):\n",
    "        for j in range(Y.shape[1]):\n",
    "            if mode == 'max':\n",
    "                Y[i, j] = X[i:i + p_h, j:j + p_w].max()\n",
    "            elif mode == 'avg':\n",
    "                Y[i, j] = X[i:i + p_h, j:j + p_w].mean()\n",
    "    return Y\n",
    "\n",
    "\n",
    "img = mini_train_data[10].reshape(28, 28)\n",
    "img1 = pool2d(img, (2, 2))\n",
    "plt.imshow(img1, cmap='gray')\n",
    "plt.setp(plt.gcf().get_axes(), xticks=[], yticks=[]);\n",
    "\n",
    "def maxpool_examples(examples, n=2, threshold = 0.1, mode='max'):\n",
    "    if mode == 'max':\n",
    "        binarized = [ pool2d(np.array(binarize_example(example.reshape(-1), threshold)).reshape(28, 28), (n, n)).reshape(-1) for example in examples ]\n",
    "    else:\n",
    "        binarized = [ pool2d(np.array(binarize_example(example.reshape(-1), threshold)).reshape(28, 28), (n, n), mode=\"avg\").reshape(-1) for example in examples ]\n",
    "    return binarized\n",
    "\n",
    "    \n",
    "def Q7():\n",
    "    ### STUDENT START ###\n",
    "    for ps in [2, 3, 4, 5]:\n",
    "        binarized_train_data = maxpool_examples(mini_train_data, n=ps, threshold=0.0)\n",
    "        binary_naive_bayes = BernoulliNB(alpha=0.001)\n",
    "        binary_naive_bayes.fit(binarized_train_data, mini_train_labels)\n",
    "        binarized_dev_data = maxpool_examples(dev_data, n=ps, threshold=0.0)\n",
    "        print('Bernoulli model accuracy: ', binary_naive_bayes.score(binarized_dev_data, dev_labels))\n",
    "    ### STUDENT END ###\n",
    "\n",
    "Q7()"
   ]
  },
  {
   "cell_type": "code",
   "execution_count": null,
   "metadata": {},
   "outputs": [],
   "source": []
  }
 ],
 "metadata": {
  "colab": {
   "collapsed_sections": [],
   "name": "firstname_lastname_project2.ipynb",
   "provenance": []
  },
  "kernelspec": {
   "display_name": "Python 3",
   "language": "python",
   "name": "python3"
  },
  "language_info": {
   "codemirror_mode": {
    "name": "ipython",
    "version": 3
   },
   "file_extension": ".py",
   "mimetype": "text/x-python",
   "name": "python",
   "nbconvert_exporter": "python",
   "pygments_lexer": "ipython3",
   "version": "3.8.5"
  },
  "toc": {
   "base_numbering": 1,
   "nav_menu": {},
   "number_sections": false,
   "sideBar": true,
   "skip_h1_title": true,
   "title_cell": "Table of Contents",
   "title_sidebar": "Contents",
   "toc_cell": false,
   "toc_position": {},
   "toc_section_display": true,
   "toc_window_display": false
  }
 },
 "nbformat": 4,
 "nbformat_minor": 1
}
